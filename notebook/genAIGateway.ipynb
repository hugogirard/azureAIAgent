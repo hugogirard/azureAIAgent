{
 "cells": [
  {
   "cell_type": "markdown",
   "id": "ba5f2ab2",
   "metadata": {},
   "source": [
    "#### Install required packages"
   ]
  },
  {
   "cell_type": "code",
   "execution_count": null,
   "id": "8bfcca69",
   "metadata": {},
   "outputs": [],
   "source": [
    "%pip install -r requirements.txt"
   ]
  },
  {
   "cell_type": "markdown",
   "id": "dd2e9dab",
   "metadata": {},
   "source": [
    "Load all environment variables (needed)"
   ]
  },
  {
   "cell_type": "code",
   "execution_count": 1,
   "id": "99ca6c43",
   "metadata": {},
   "outputs": [
    {
     "data": {
      "text/plain": [
       "True"
      ]
     },
     "execution_count": 1,
     "metadata": {},
     "output_type": "execute_result"
    }
   ],
   "source": [
    "from dotenv import load_dotenv\n",
    "import os\n",
    "\n",
    "load_dotenv(override=True)"
   ]
  },
  {
   "cell_type": "markdown",
   "id": "160d216e",
   "metadata": {},
   "source": [
    "Set the logging of all HTTP call"
   ]
  },
  {
   "cell_type": "code",
   "execution_count": 25,
   "id": "5f5b398d",
   "metadata": {},
   "outputs": [],
   "source": [
    "import logging\n",
    "import httpx\n",
    "\n",
    "logging.basicConfig(level=logging.DEBUG)\n",
    "httpx_logger = logging.getLogger(\"httpx\")\n",
    "httpx_logger.setLevel(logging.DEBUG)\n",
    "\n",
    "def set_logging(level: int):\n",
    "    httpx_logger.setLevel(level)"
   ]
  },
  {
   "cell_type": "markdown",
   "id": "2c67f862",
   "metadata": {},
   "source": [
    "### Without APIM calling directly OpenAI from Foundry\n",
    "\n",
    "Now we will authenticate with the user credentials, this mean the user needs to proper RBAC to the instance of Azure OpenAI.  We won't pass using API"
   ]
  },
  {
   "cell_type": "code",
   "execution_count": 2,
   "id": "dead4944",
   "metadata": {},
   "outputs": [],
   "source": [
    "import os\n",
    "from openai import AzureOpenAI\n",
    "from azure.identity import DefaultAzureCredential, get_bearer_token_provider\n",
    "\n",
    "endpoint = os.getenv('AZURE_AI_FOUNDRY_ENDPOINT')\n",
    "chat_completion_model_name = os.getenv('AZURE_CHAT_COMPLETION_MODEL')\n",
    "token_provider = get_bearer_token_provider(DefaultAzureCredential(), \"https://cognitiveservices.azure.com/.default\")\n",
    "api_version = \"2024-12-01-preview\""
   ]
  },
  {
   "cell_type": "code",
   "execution_count": 3,
   "id": "37f9263c",
   "metadata": {},
   "outputs": [],
   "source": [
    "from openai import AzureOpenAI\n",
    "\n",
    "# Create the client\n",
    "client = AzureOpenAI(\n",
    "    api_version=api_version,\n",
    "    azure_endpoint=endpoint,\n",
    "    azure_ad_token_provider=token_provider,\n",
    ")\n"
   ]
  },
  {
   "cell_type": "markdown",
   "id": "d49fa9d3",
   "metadata": {},
   "source": [
    "Create helper methods"
   ]
  },
  {
   "cell_type": "code",
   "execution_count": 4,
   "id": "fc04bbf8",
   "metadata": {},
   "outputs": [],
   "source": [
    "def ask_question(client: AzureOpenAI, question: str, model: str) -> str:\n",
    "\n",
    "    response = client.chat.completions.create(\n",
    "        messages=[\n",
    "            {\n",
    "                \"role\": \"system\",\n",
    "                \"content\": \"You are a helpful assistant.\",\n",
    "            },\n",
    "            {\n",
    "                \"role\": \"user\",\n",
    "                \"content\": question,\n",
    "            }\n",
    "        ],\n",
    "        max_completion_tokens=800,\n",
    "        temperature=1.0,\n",
    "        top_p=1.0,\n",
    "        frequency_penalty=0.0,\n",
    "        presence_penalty=0.0,\n",
    "        model=model\n",
    "    )\n",
    "\n",
    "    return response.choices[0].message.content"
   ]
  },
  {
   "cell_type": "code",
   "execution_count": null,
   "id": "f931616b",
   "metadata": {},
   "outputs": [],
   "source": [
    "answer = ask_question(client, \"What I can do in Paris that is fun ?\", os.getenv('AZURE_CHAT_COMPLETION_MODEL'))\n",
    "\n",
    "print(answer)"
   ]
  },
  {
   "cell_type": "markdown",
   "id": "629c5de4",
   "metadata": {},
   "source": [
    "#### Using OpenAI Endpoint\n",
    "\n",
    "In the previous example the client is using Azure AI Foundry endpoint that look like **https://<youservicename>.cognitiveservices.azure.com/**"
   ]
  },
  {
   "cell_type": "code",
   "execution_count": 26,
   "id": "68cd158f",
   "metadata": {},
   "outputs": [],
   "source": [
    "openai_endpoint = os.getenv('AZURE_OPENAI_ENDPOINT')\n",
    "\n",
    "# Close the previous client\n",
    "client.close()\n",
    "\n",
    "client = AzureOpenAI(\n",
    "    api_version=api_version,\n",
    "    azure_endpoint=openai_endpoint,\n",
    "    azure_ad_token_provider=token_provider,\n",
    ")"
   ]
  },
  {
   "cell_type": "code",
   "execution_count": null,
   "id": "f87f007e",
   "metadata": {},
   "outputs": [],
   "source": [
    "answer = ask_question(client, \"What I can do in Paris that is fun ?\", os.getenv('AZURE_CHAT_COMPLETION_MODEL'))\n",
    "\n",
    "print(answer)"
   ]
  },
  {
   "cell_type": "markdown",
   "id": "9bb20776",
   "metadata": {},
   "source": [
    "Now let's do it using the APIM"
   ]
  },
  {
   "cell_type": "code",
   "execution_count": 74,
   "id": "f1061123",
   "metadata": {},
   "outputs": [
    {
     "name": "stdout",
     "output_type": "stream",
     "text": [
      "https://genapimhg.azure-api.net/foundry\n"
     ]
    }
   ],
   "source": [
    "load_dotenv(override=True)\n",
    "\n",
    "apim_openai_endpoint=os.getenv('APIM_OPENAI_ENDPOINT')\n",
    "apim_subscription_key=os.getenv('APIM_SUBSCRIPTION_KEY')\n",
    "\n",
    "print(apim_openai_endpoint)"
   ]
  },
  {
   "cell_type": "code",
   "execution_count": null,
   "id": "474bd470",
   "metadata": {},
   "outputs": [],
   "source": [
    "token = DefaultAzureCredential().get_token(\"https://cognitiveservices.azure.com/.default\")"
   ]
  },
  {
   "cell_type": "code",
   "execution_count": null,
   "id": "137d8ee7",
   "metadata": {},
   "outputs": [],
   "source": [
    "print(token.token)"
   ]
  },
  {
   "cell_type": "code",
   "execution_count": null,
   "id": "f6bce571",
   "metadata": {},
   "outputs": [],
   "source": [
    "client.close()\n",
    "\n",
    "#print(apim_subscription_key)\n",
    "\n",
    "token = DefaultAzureCredential().get_token(\"https://cognitiveservices.azure.com/.default\")\n",
    "\n",
    "client = AzureOpenAI(\n",
    "    api_version=api_version,\n",
    "    azure_endpoint=apim_openai_endpoint,   \n",
    "    # default_headers={\n",
    "    #     \"api-key\": apim_subscription_key\n",
    "    # },\n",
    "    #azure_ad_token=get_bearer_token_provider\n",
    "    api_key=apim_subscription_key # Here we pass the APIM key   \n",
    ")"
   ]
  },
  {
   "cell_type": "code",
   "execution_count": null,
   "id": "222d3e99",
   "metadata": {},
   "outputs": [],
   "source": [
    "answer = ask_question(client, \"What I can do in Rome that is fun ?\", os.getenv('AZURE_CHAT_COMPLETION_MODEL'))\n",
    "\n",
    "print(answer)"
   ]
  },
  {
   "cell_type": "markdown",
   "id": "6ac66c60",
   "metadata": {},
   "source": [
    "### Call the manual configured endpoint"
   ]
  },
  {
   "cell_type": "code",
   "execution_count": 19,
   "id": "3a5c9242",
   "metadata": {},
   "outputs": [
    {
     "name": "stdout",
     "output_type": "stream",
     "text": [
      "80cb9daca2da48adad31d93306a240c5\n",
      "https://genapimhg.azure-api.net/test/\n"
     ]
    }
   ],
   "source": [
    "load_dotenv(override=True)\n",
    "\n",
    "manual_endpoint = os.getenv('MANUAL_APIM_ENDPOINT')\n",
    "apim_openai_endpoint=os.getenv('APIM_OPENAI_ENDPOINT')\n",
    "apim_subscription_key=os.getenv('APIM_SUBSCRIPTION_KEY')\n",
    "print(apim_subscription_key)\n",
    "print(manual_endpoint)\n",
    "\n",
    "client = AzureOpenAI(\n",
    "    api_version=api_version,\n",
    "    azure_endpoint=manual_endpoint,   \n",
    "    api_key=apim_subscription_key\n",
    ")"
   ]
  },
  {
   "cell_type": "code",
   "execution_count": null,
   "id": "2695201c",
   "metadata": {},
   "outputs": [],
   "source": [
    "answer = ask_question(client, \"What I can do in Mexico that is fun ?\", os.getenv('AZURE_CHAT_COMPLETION_MODEL'))\n",
    "\n",
    "print(answer)"
   ]
  },
  {
   "cell_type": "code",
   "execution_count": 24,
   "id": "f2261c75",
   "metadata": {},
   "outputs": [],
   "source": [
    "client = AzureOpenAI(\n",
    "    api_version=api_version,\n",
    "    azure_endpoint=apim_openai_endpoint,   \n",
    "    # default_headers={\n",
    "    #     \"api-key\": apim_subscription_key\n",
    "    # },\n",
    "    azure_ad_token=get_bearer_token_provider\n",
    "    #api_key=apim_subscription_key # Here we pass the APIM key   \n",
    ")"
   ]
  }
 ],
 "metadata": {
  "kernelspec": {
   "display_name": ".venv",
   "language": "python",
   "name": "python3"
  },
  "language_info": {
   "codemirror_mode": {
    "name": "ipython",
    "version": 3
   },
   "file_extension": ".py",
   "mimetype": "text/x-python",
   "name": "python",
   "nbconvert_exporter": "python",
   "pygments_lexer": "ipython3",
   "version": "3.12.8"
  }
 },
 "nbformat": 4,
 "nbformat_minor": 5
}
