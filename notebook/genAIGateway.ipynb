{
 "cells": [
  {
   "cell_type": "markdown",
   "id": "3d3db0cd",
   "metadata": {},
   "source": [
    "#### Install required packages"
   ]
  },
  {
   "cell_type": "code",
   "execution_count": null,
   "id": "d5624969",
   "metadata": {},
   "outputs": [],
   "source": [
    "%pip install -r requirements.txt"
   ]
  },
  {
   "cell_type": "markdown",
   "id": "ac553967",
   "metadata": {},
   "source": [
    "Load all environment variables"
   ]
  },
  {
   "cell_type": "code",
   "execution_count": null,
   "id": "977f4b6c",
   "metadata": {},
   "outputs": [],
   "source": [
    "from dotenv import load_dotenv\n",
    "from azure.identity.aio import DefaultAzureCredential, get_bearer_token_provider\n",
    "import os\n",
    "\n",
    "load_dotenv(override=True)\n",
    "\n",
    "chat_completion_model_name = os.getenv('AZURE_CHAT_COMPLETION_MODEL')\n",
    "\n",
    "# The endpoint of APIM to reach the OpenAI instance\n",
    "apim_openai_endpoint=os.getenv('APIM_OPENAI_ENDPOINT')\n",
    "\n",
    "# We can or not use the API Key, here we will have two endpoint one with and one without\n",
    "apim_subscription_key=os.getenv('APIM_SUBSCRIPTION_KEY')\n",
    "\n",
    "# Default endpoint to get the token to call an Azure OpenAI instances\n",
    "token_provider = get_bearer_token_provider(DefaultAzureCredential(), \"https://cognitiveservices.azure.com/.default\")\n",
    "\n",
    "# Related to the REST api of Azure AI Foundry, change this value based on the one you configured\n",
    "api_version = \"2024-12-01-preview\""
   ]
  },
  {
   "cell_type": "markdown",
   "id": "90315c3e",
   "metadata": {},
   "source": [
    "Create the AzureOpenAI Client"
   ]
  },
  {
   "cell_type": "code",
   "execution_count": 7,
   "id": "a469ad4f",
   "metadata": {},
   "outputs": [],
   "source": [
    "from openai import AsyncAzureOpenAI\n",
    "\n",
    "client = AsyncAzureOpenAI(\n",
    "    api_version=api_version,\n",
    "    azure_endpoint=apim_openai_endpoint,\n",
    "    api_key=apim_subscription_key # Here we pass the APIM key   \n",
    ") "
   ]
  },
  {
   "cell_type": "markdown",
   "id": "f9d86fe0",
   "metadata": {},
   "source": [
    "Creating an helper method to call the model"
   ]
  },
  {
   "cell_type": "code",
   "execution_count": 8,
   "id": "a992e4fc",
   "metadata": {},
   "outputs": [],
   "source": [
    "async def prompt(prompt:str) -> str:\n",
    "    response = await client.chat.completions.create(\n",
    "        messages=[\n",
    "            {\n",
    "                \"role\": \"system\",\n",
    "                \"content\": \"You are a helpful assistant.\",\n",
    "            },\n",
    "            {\n",
    "                \"role\": \"user\",\n",
    "                \"content\": prompt,\n",
    "            }\n",
    "        ],\n",
    "        max_completion_tokens=2000,\n",
    "        temperature=1.0,\n",
    "        top_p=1.0,\n",
    "        frequency_penalty=0.0,\n",
    "        presence_penalty=0.0,\n",
    "        model=chat_completion_model_name\n",
    "    )  \n",
    "\n",
    "    return response.choices[0].message.content     "
   ]
  }
 ],
 "metadata": {
  "kernelspec": {
   "display_name": ".venv",
   "language": "python",
   "name": "python3"
  },
  "language_info": {
   "codemirror_mode": {
    "name": "ipython",
    "version": 3
   },
   "file_extension": ".py",
   "mimetype": "text/x-python",
   "name": "python",
   "nbconvert_exporter": "python",
   "pygments_lexer": "ipython3",
   "version": "3.12.8"
  }
 },
 "nbformat": 4,
 "nbformat_minor": 5
}
